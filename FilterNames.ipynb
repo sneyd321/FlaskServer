{
 "cells": [
  {
   "cell_type": "code",
   "execution_count": null,
   "metadata": {
    "collapsed": true
   },
   "outputs": [],
   "source": [
    "\n",
    "something = 'something'\n",
    "options = {'this': 1, 'that': 2, 'there': 3}\n",
    "\n",
    "for i in xrange(1000000):\n",
    "    if something in options:\n",
    "        the_thing = options[something]\n",
    "    else:\n",
    "        the_thing = 4"
   ]
  },
  {
   "cell_type": "code",
   "execution_count": null,
   "metadata": {
    "collapsed": true
   },
   "outputs": [],
   "source": [
    "def testFunction(image, bottleNeck, classIndicies):\n",
    "    pass"
   ]
  },
  {
   "cell_type": "code",
   "execution_count": 9,
   "metadata": {},
   "outputs": [
    {
     "name": "stdout",
     "output_type": "stream",
     "text": [
      "Deli_BarSpecialty_Refridgerator\n",
      "bottleneck\n",
      "class_indicies\n"
     ]
    }
   ],
   "source": [
    "subCat = \"Deli_BarSpecialty_Refridgerator\"\n",
    "\n",
    "subCategories = {\n",
    "    \"Air_Conditioning\": (\"bottleneck_fc_model_name.h5\", \"class_indices_name.npy\"),\n",
    "    \"Deli_BarSpecialty_Refridgerator\": (\"bottleneck_fc_model_name.h5\", \"class_indices_name.npy\"),\n",
    "    \"Dishwasher\": (\"bottleneck_fc_model_name.h5\", \"class_indices_name.npy\"),\n",
    "    \"Exhaust_System\": (\"bottleneck_fc_model_name.h5\", \"class_indices_name.npy\"),\n",
    "    \"GrillBagel_Toaster\": (\"bottleneck_fc_model_name.h5\", \"class_indices_name.npy\"),\n",
    "    \"Heating\": (\"bottleneck_fc_model_name.h5\", \"class_indices_name.npy\"),\n",
    "    \"Hot_Beverage_Machine\": (\"bottleneck_fc_model_name.h5\", \"class_indices_name.npy\"),\n",
    "    \"Hot Holding Cabinet\": (\"bottleneck_fc_model_name.h5\", \"class_indices_name.npy\"),\n",
    "    \"Ice_Machine\": (\"bottleneck_fc_model_name.h5\", \"class_indices_name.npy\"),\n",
    "    \"Iced_Beverage_Machine\": (\"bottleneck_fc_model_name.h5\", \"class_indices_name.npy\"),\n",
    "    \"Ovens\": (\"bottleneck_fc_model_name.h5\", \"class_indices_name.npy\"),\n",
    "    \"Reach_In_Cooler\": (\"bottleneck_fc_model_name.h5\", \"class_indices_name.npy\"),\n",
    "    \"Reach_In_Freezer\": (\"bottleneck_fc_model_name.h5\", \"class_indices_name.npy\"),\n",
    "    \"Smallware\": (\"bottleneck_fc_model_name.h5\", \"class_indices_name.npy\"),\n",
    "    \"SugarCreamFlavor_Shot_Machine\": (\"bottleneck_fc_model_name.h5\", \"class_indices_name.npy\"),\n",
    "    \"Undercounter_CoolerFreezer\": (\"bottleneck_fc_model_name.h5\", \"class_indices_name.npy\"),\n",
    "    \"Walkin\": (\"bottleneck_fc_model_name.h5\", \"class_indices_name.npy\"),\n",
    "    \"Reach_in_Cooler\": (\"bottleneck_fc_model_name.h5\", \"class_indices_name.npy\"),\n",
    "    \"Reach_in_Freezer\": (\"bottleneck_fc_model_name.h5\", \"class_indices_name.npy\")\n",
    "    }\n",
    "\n",
    "for key, value in subCategories.items():\n",
    "    if key == subCat:\n",
    "        print(key)\n",
    "        print(value[0])\n",
    "        print(value[1])\n"
   ]
  },
  {
   "cell_type": "code",
   "execution_count": null,
   "metadata": {
    "collapsed": true
   },
   "outputs": [],
   "source": []
  }
 ],
 "metadata": {
  "kernelspec": {
   "display_name": "Python 3",
   "language": "python",
   "name": "python3"
  },
  "language_info": {
   "codemirror_mode": {
    "name": "ipython",
    "version": 3
   },
   "file_extension": ".py",
   "mimetype": "text/x-python",
   "name": "python",
   "nbconvert_exporter": "python",
   "pygments_lexer": "ipython3",
   "version": "3.5.4"
  }
 },
 "nbformat": 4,
 "nbformat_minor": 2
}
