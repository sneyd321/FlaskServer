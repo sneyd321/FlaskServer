{
 "cells": [
  {
   "cell_type": "code",
   "execution_count": null,
   "metadata": {
    "collapsed": true
   },
   "outputs": [],
   "source": [
    " #Change directory to model folder\n",
    "    #root = os.chdir(root)\n",
    "    #If item is a directory\n",
    "    if os.path.isdir(root):\n",
    "        #For each directory in the current folder\n",
    "        for directory in os.listdir(os.chdir(root)):\n",
    "            #If item is a directory\n",
    "            print(directory)\n",
    "            for filename in os.listdir(path + modelName + \"//\" + directory):\n",
    "                #if the file has the right file extnesion\n",
    "                if filename.endswith(\".jpg\") or filename.endswith(\".png\") or filename.endswith(\"jpeg\"): \n",
    "                    #get the image\n",
    "                    img = cv2.imread(path + modelName + \"//\" + directory + \"//\" + filename)\n",
    "                    #Sharpen it\n",
    "                    kernel_sharpen_1 = np.array([[-1,-1,-1], [-1,9,-1], [-1,-1,-1]])\n",
    "                    #Add a filter\n",
    "                    output_1 = cv2.filter2D(img, -1, kernel_sharpen_1)\n",
    "                    #Change directory for the file to be saved\n",
    "                    os.chdir(path + modelName + \"//\" + directory)\n",
    "                    #Save image\n",
    "                    cv2.imwrite(\"Sharpen\" + filename, output_1)\n",
    "                    #Reset directory path\n",
    "                    #os.chdir(path)\n",
    "                #continue\n",
    "                \n",
    "rootdir = 'C:/ResQ/Stufffff/UniqueNameImages'\n",
    "counter = 0\n",
    "for subdir, dirs, files in os.walk(rootdir):\n",
    "    for files in os.walk(subdir):\n",
    "        if(len(files[2]) <= 30):\n",
    "            modelNameDir = str(files[0]).split('\\\\')\n",
    "            if len(modelNameDir) != 1:\n",
    "                Sharp(modelNameDir[1])\n",
    "                counter = counter + 1\n",
    "                print(modelNameDir[1])\n",
    "                print(\"This many pictures in that folder: \" + str(len(files[2])) + \"\\n\")\n",
    "    break\n",
    "print(counter)"
   ]
  },
  {
   "cell_type": "code",
   "execution_count": 1,
   "metadata": {},
   "outputs": [
    {
     "name": "stdout",
     "output_type": "stream",
     "text": [
      "0\n"
     ]
    }
   ],
   "source": [
    "import cv2\n",
    "import numpy as np\n",
    "import os\n",
    "import time\n",
    "import pandas as pd\n",
    "import os.path\n",
    "from PIL import Image\n",
    "def Sharp(modelName):\n",
    "   \n",
    "                \n",
    "rootdir = 'C:/ResQ/Stufffff/UniqueNameImages'\n",
    "counter = 0\n",
    "for subdir, dirs, files in os.walk(rootdir):\n",
    "    for files in os.walk(subdir):\n",
    "        if(len(files[2]) <= 30):\n",
    "            modelNameDir = str(files[0]).split('\\\\')\n",
    "            if len(modelNameDir) != 1:\n",
    "                Sharp(modelNameDir[1])\n",
    "                counter = counter + 1\n",
    "                print(modelNameDir[1])\n",
    "                print(\"This many pictures in that folder: \" + str(len(files[2])) + \"\\n\")\n",
    "    break\n",
    "print(counter)"
   ]
  },
  {
   "cell_type": "code",
   "execution_count": null,
   "metadata": {
    "collapsed": true
   },
   "outputs": [],
   "source": [
    "#Change this to the path\n",
    "path = r\"C://Users//Ryan//Downloads//Folders\"\n",
    "#Uncomment this when folders are done\n",
    "#Delete and replace with for loop ^^\n",
    "#modelName = input(\"Enter a directory: \")\n",
    "\n",
    "\n",
    "\n",
    "\n",
    "print(path)\n",
    "#Change directory to model folder\n",
    "#root = os.chdir(root)\n",
    "#If item is a directory\n",
    "if os.path.isdir(root):\n",
    "    #For each directory in the current folder\n",
    "    for directory in os.listdir(os.chdir(root)):\n",
    "        #If item is a directory\n",
    "        print(directory)\n",
    "        for filename in os.listdir(path + modelName + \"//\" + directory):\n",
    "            #if the file has the right file extnesion\n",
    "            if filename.endswith(\".jpg\") or filename.endswith(\".png\") or filename.endswith(\"jpeg\"): \n",
    "                #get the image\n",
    "                img = cv2.imread(path + modelName + \"//\" + directory + \"//\" + filename)\n",
    "                #Sharpen it\n",
    "                kernel_sharpen_1 = np.array([[-1,-1,-1], [-1,9,-1], [-1,-1,-1]])\n",
    "                #Add a filter\n",
    "                output_1 = cv2.filter2D(img, -1, kernel_sharpen_1)\n",
    "                #Change directory for the file to be saved\n",
    "                os.chdir(path + modelName + \"//\" + directory)\n",
    "                #Save image\n",
    "                cv2.imwrite(\"Sharpen\" + filename, output_1)\n",
    "                #Reset directory path\n",
    "                #os.chdir(path)\n",
    "            #continue"
   ]
  }
 ],
 "metadata": {
  "kernelspec": {
   "display_name": "Python 3",
   "language": "python",
   "name": "python3"
  },
  "language_info": {
   "codemirror_mode": {
    "name": "ipython",
    "version": 3
   },
   "file_extension": ".py",
   "mimetype": "text/x-python",
   "name": "python",
   "nbconvert_exporter": "python",
   "pygments_lexer": "ipython3",
   "version": "3.5.4"
  }
 },
 "nbformat": 4,
 "nbformat_minor": 2
}
